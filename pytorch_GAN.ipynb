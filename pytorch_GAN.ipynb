{
  "nbformat": 4,
  "nbformat_minor": 0,
  "metadata": {
    "colab": {
      "name": "pytorch GAN.ipynb",
      "provenance": [],
      "mount_file_id": "1mOl-9xJCS_7_9jdQOOQjbjftU70h_TEb",
      "authorship_tag": "ABX9TyOa5IKOtuUu0crpzUitT2Hp",
      "include_colab_link": true
    },
    "kernelspec": {
      "name": "python3",
      "display_name": "Python 3"
    },
    "accelerator": "GPU"
  },
  "cells": [
    {
      "cell_type": "markdown",
      "metadata": {
        "id": "view-in-github",
        "colab_type": "text"
      },
      "source": [
        "<a href=\"https://colab.research.google.com/github/puru9860/GAN/blob/main/pytorch_GAN.ipynb\" target=\"_parent\"><img src=\"https://colab.research.google.com/assets/colab-badge.svg\" alt=\"Open In Colab\"/></a>"
      ]
    },
    {
      "cell_type": "code",
      "metadata": {
        "id": "Wf9a5h0UPXBT",
        "colab": {
          "base_uri": "https://localhost:8080/"
        },
        "outputId": "343289bb-8bb1-4fe0-8163-8f33ef4221c6"
      },
      "source": [
        "import torch\n",
        "import torch.nn as nn\n",
        "import torch.optim as optim\n",
        "import torchvision\n",
        "import torchvision.datasets as datasets\n",
        "import torchvision.transforms as transforms\n",
        "from torch.utils.data import DataLoader\n",
        "from torch.utils.tensorboard import SummaryWriter\n",
        "\n",
        "%load_ext tensorboard\n"
      ],
      "execution_count": null,
      "outputs": [
        {
          "output_type": "stream",
          "text": [
            "The tensorboard extension is already loaded. To reload it, use:\n",
            "  %reload_ext tensorboard\n"
          ],
          "name": "stdout"
        }
      ]
    },
    {
      "cell_type": "code",
      "metadata": {
        "id": "A8IAg-trQOf9"
      },
      "source": [
        "class Discriminator(nn.Module):\n",
        "  def __init__(self,channel_img,features_d):\n",
        "    super(Discriminator,self).__init__()\n",
        "    self.disc= nn.Sequential(\n",
        "        #in Bx64x64\n",
        "        nn.Conv2d(channel_img,features_d,kernel_size=4,stride=2,padding=1), # 32x32\n",
        "        nn.LeakyReLU(0.2),\n",
        "        self._block(features_d,features_d*2,4,2,1), #16x16\n",
        "        self._block(features_d*2,features_d*4,4,2,1),#8x8\n",
        "        self._block(features_d*4,features_d*8,4,2,1),#4x4\n",
        "        nn.Conv2d(features_d*8,1,kernel_size=4,stride=2,padding=0),\n",
        "        nn.Sigmoid()\n",
        "\n",
        "    )\n",
        "\n",
        "  def _block(self,in_channel,out_channel,kernel_size,stride,padding):\n",
        "    return nn.Sequential(\n",
        "        nn.Conv2d(in_channel,out_channel,kernel_size,stride,padding,bias=False),\n",
        "        nn.BatchNorm2d(out_channel),\n",
        "        nn.LeakyReLU(0.2)\n",
        "    )\n",
        "  \n",
        "  def forward(self,x):\n",
        "    return self.disc(x)"
      ],
      "execution_count": null,
      "outputs": []
    },
    {
      "cell_type": "code",
      "metadata": {
        "id": "fZnBq4yKUQ3m"
      },
      "source": [
        "class Generator(nn.Module):\n",
        "  def __init__(self,z_dim,channels_img,features_g):\n",
        "    super(Generator,self).__init__()\n",
        "    self.gen = nn.Sequential(\n",
        "        #In Nxz_dimx4x4\n",
        "        self._block(z_dim,features_g*16,4,1,0), #f_dx4x4\n",
        "        self._block(features_g*16,features_g*8,4,2,1), #8x8\n",
        "        self._block(features_g*8,features_g*4,4,2,1), #16x616\n",
        "        self._block(features_g*4,features_g*2,4,2,1), #32x32\n",
        "        nn.ConvTranspose2d(features_g*2,channels_img,kernel_size=4,stride=2,padding=1),\n",
        "        nn.Tanh()\n",
        "    )\n",
        "\n",
        "\n",
        "  def _block(self,in_channels,out_channels,kernel_size,stride,padding):\n",
        "    return nn.Sequential(\n",
        "        nn.ConvTranspose2d(\n",
        "            in_channels,out_channels,kernel_size,stride,padding,bias=False\n",
        "        ),\n",
        "        nn.BatchNorm2d(out_channels),\n",
        "        nn.ReLU()\n",
        "    )  \n",
        "  def forward(self,x):\n",
        "    return self.gen(x)        "
      ],
      "execution_count": null,
      "outputs": []
    },
    {
      "cell_type": "code",
      "metadata": {
        "id": "6e2a-qUdkeWJ"
      },
      "source": [
        "def initialize_weights(model):\n",
        "  for m in model.modules():\n",
        "    if isinstance(m,(nn.Conv2d,nn.ConvTranspose2d,nn.BatchNorm2d)):\n",
        "      nn.init.normal_(m.weight.data,0.0,0.02)"
      ],
      "execution_count": null,
      "outputs": []
    },
    {
      "cell_type": "code",
      "metadata": {
        "id": "UZ6x7bIprTNU"
      },
      "source": [
        "device = torch.device(\"cuda\" if torch.cuda.is_available() else 'cpu')\n",
        "LEARNING_RATE = 2E-4 \n",
        "BATCH_SIZE=128\n",
        "IMAGE_SIZE=64\n",
        "CHANNELS_IMG=3\n",
        "Z_DIM =100\n",
        "NUM_EPOCHS = 50\n",
        "FEATURE_DISC = 64\n",
        "FEATURES_GEN = 64\n",
        "\n",
        "transform = transforms.Compose([ transforms.Resize(IMAGE_SIZE),\n",
        "     transforms.ToTensor(),\n",
        "     transforms.Normalize(\n",
        "         [0.5 for _ in range(CHANNELS_IMG)],[0.5 for _ in range(CHANNELS_IMG)]),\n",
        "])\n",
        "   \n"
      ],
      "execution_count": null,
      "outputs": []
    },
    {
      "cell_type": "code",
      "metadata": {
        "id": "pQNvA_y1B1HI"
      },
      "source": [
        "dataset = datasets.ImageFolder(root='/content/FFHQ',transform=transform)\n",
        "loader = DataLoader(dataset,batch_size=BATCH_SIZE,shuffle=True)"
      ],
      "execution_count": null,
      "outputs": []
    },
    {
      "cell_type": "code",
      "metadata": {
        "id": "rC3ZmrQyv7cd"
      },
      "source": [
        "# dataset = datasets.MNIST(root=\"dataset/\",train=True,transform=transform,download=True)\n",
        "dataset = datasets.ImageFolder(root='/content/FFHQ',transform=transform)\n",
        "loader = DataLoader(dataset,batch_size=BATCH_SIZE,shuffle=True)\n",
        "\n",
        "gen= Generator(Z_DIM,CHANNELS_IMG,FEATURES_GEN).to(device)\n",
        "disc = Discriminator(CHANNELS_IMG,FEATURE_DISC).to(device)\n",
        "\n",
        "initialize_weights(gen)\n",
        "initialize_weights(disc)\n",
        "\n",
        "optim_gen = optim.Adam(gen.parameters(),lr=LEARNING_RATE,betas=(0.5,0.999))\n",
        "optim_disc = optim.Adam(disc.parameters(),lr=LEARNING_RATE,betas=(0.5,0.999))\n",
        "\n",
        "criterion = nn.BCELoss()\n",
        "\n",
        "fixed_noise = torch.randn(32,Z_DIM,1,1).to(device)\n",
        "\n",
        "writer_real = SummaryWriter(f\"logs/real\")\n",
        "writer_fake = SummaryWriter(f\"logs/fake\")\n",
        "\n",
        "step = 0\n",
        "\n",
        "gen.train()\n",
        "disc.train()\n"
      ],
      "execution_count": null,
      "outputs": []
    },
    {
      "cell_type": "code",
      "metadata": {
        "colab": {
          "base_uri": "https://localhost:8080/"
        },
        "id": "JKv3KEXQydKy",
        "outputId": "447568dc-1f00-4de2-d98b-b5290915f4ec"
      },
      "source": [
        "for epoch in range(NUM_EPOCHS):\n",
        "  for batch_idx,(real, _) in enumerate(loader):\n",
        "    real = real.to(device)\n",
        "    noise = torch.randn((BATCH_SIZE,Z_DIM,1,1)).to(device)\n",
        "    fake = gen(noise)\n",
        "     \n",
        "    disc_real = disc(real).reshape(-1)\n",
        "    loss_disc_real = criterion(disc_real,torch.ones_like(disc_real))\n",
        "    disc_fake = disc(fake).reshape(-1)\n",
        "    loss_disc_fake = criterion(disc_fake,torch.zeros_like(disc_fake))\n",
        "    loss_disc = (loss_disc_fake+loss_disc_real)/2\n",
        "\n",
        "    disc.zero_grad()\n",
        "    loss_disc.backward(retain_graph=True)\n",
        "    optim_disc.step()\n",
        "\n",
        "    output = disc(fake).reshape(-1)\n",
        "    loss_gen = criterion(output,torch.ones_like(output))\n",
        "    gen.zero_grad()\n",
        "    loss_gen.backward()\n",
        "    optim_gen.step()\n",
        "\n",
        "    if batch_idx % 100 == 0 :\n",
        "      print(f\"Epoch [{epoch}/{NUM_EPOCHS}] Batch {batch_idx}/{len(loader)} \\\n",
        "      Loss D: {loss_disc:.4f},loss G: {loss_gen:.4f} \")\n",
        "\n",
        "      with torch.no_grad():\n",
        "        fake = gen(fixed_noise)\n",
        "\n",
        "        img_grid_real = torchvision.utils.make_grid(\n",
        "            real[:32],normalize=True\n",
        "        )\n",
        "        img_grid_fake = torchvision.utils.make_grid(\n",
        "            fake[:32],normalize=True\n",
        "        )\n",
        "        writer_real.add_image(\"Real\",img_grid_real,global_step=step)\n",
        "        writer_fake.add_image(\"Fake\",img_grid_fake,global_step=step)\n",
        "\n",
        "      step +=1\n",
        "\n"
      ],
      "execution_count": null,
      "outputs": [
        {
          "output_type": "stream",
          "text": [
            "Epoch [0/50] Batch 0/547       Loss D: 0.5843,loss G: 2.1252 \n",
            "Epoch [0/50] Batch 100/547       Loss D: 0.5703,loss G: 2.1670 \n",
            "Epoch [0/50] Batch 200/547       Loss D: 0.5709,loss G: 1.1170 \n",
            "Epoch [0/50] Batch 300/547       Loss D: 0.4873,loss G: 1.2094 \n",
            "Epoch [0/50] Batch 400/547       Loss D: 0.4704,loss G: 1.5430 \n",
            "Epoch [0/50] Batch 500/547       Loss D: 0.4461,loss G: 1.5401 \n",
            "Epoch [1/50] Batch 0/547       Loss D: 0.4398,loss G: 1.6066 \n",
            "Epoch [1/50] Batch 100/547       Loss D: 0.4329,loss G: 1.4726 \n",
            "Epoch [1/50] Batch 200/547       Loss D: 0.7805,loss G: 2.3341 \n",
            "Epoch [1/50] Batch 300/547       Loss D: 0.4474,loss G: 2.0663 \n",
            "Epoch [1/50] Batch 400/547       Loss D: 0.3992,loss G: 1.6029 \n",
            "Epoch [1/50] Batch 500/547       Loss D: 0.6513,loss G: 1.2738 \n",
            "Epoch [2/50] Batch 0/547       Loss D: 0.4011,loss G: 2.2950 \n",
            "Epoch [2/50] Batch 100/547       Loss D: 0.3788,loss G: 1.3448 \n",
            "Epoch [2/50] Batch 200/547       Loss D: 0.3695,loss G: 2.1263 \n",
            "Epoch [2/50] Batch 300/547       Loss D: 0.5523,loss G: 0.5895 \n",
            "Epoch [2/50] Batch 400/547       Loss D: 0.6102,loss G: 2.7417 \n",
            "Epoch [2/50] Batch 500/547       Loss D: 0.3641,loss G: 2.1232 \n",
            "Epoch [3/50] Batch 0/547       Loss D: 0.5312,loss G: 0.9769 \n",
            "Epoch [3/50] Batch 100/547       Loss D: 0.3917,loss G: 1.7131 \n",
            "Epoch [3/50] Batch 200/547       Loss D: 0.7650,loss G: 0.9567 \n",
            "Epoch [3/50] Batch 300/547       Loss D: 0.4399,loss G: 1.4053 \n",
            "Epoch [3/50] Batch 400/547       Loss D: 0.4260,loss G: 1.1895 \n",
            "Epoch [3/50] Batch 500/547       Loss D: 0.4030,loss G: 1.3383 \n",
            "Epoch [4/50] Batch 0/547       Loss D: 0.4124,loss G: 1.3822 \n",
            "Epoch [4/50] Batch 100/547       Loss D: 0.4470,loss G: 1.5298 \n",
            "Epoch [4/50] Batch 200/547       Loss D: 0.4449,loss G: 1.1914 \n",
            "Epoch [4/50] Batch 300/547       Loss D: 0.3510,loss G: 1.7546 \n",
            "Epoch [4/50] Batch 400/547       Loss D: 0.3423,loss G: 1.9603 \n",
            "Epoch [4/50] Batch 500/547       Loss D: 0.4106,loss G: 1.9702 \n",
            "Epoch [5/50] Batch 0/547       Loss D: 0.5616,loss G: 1.8886 \n",
            "Epoch [5/50] Batch 100/547       Loss D: 0.5581,loss G: 0.9421 \n",
            "Epoch [5/50] Batch 200/547       Loss D: 0.4252,loss G: 1.0824 \n",
            "Epoch [5/50] Batch 300/547       Loss D: 0.3754,loss G: 2.0020 \n",
            "Epoch [5/50] Batch 400/547       Loss D: 0.8907,loss G: 0.7758 \n",
            "Epoch [5/50] Batch 500/547       Loss D: 0.5825,loss G: 0.8680 \n",
            "Epoch [6/50] Batch 0/547       Loss D: 0.4429,loss G: 1.9055 \n",
            "Epoch [6/50] Batch 100/547       Loss D: 0.3690,loss G: 1.6323 \n",
            "Epoch [6/50] Batch 200/547       Loss D: 0.3220,loss G: 1.5037 \n",
            "Epoch [6/50] Batch 300/547       Loss D: 0.4054,loss G: 1.5185 \n",
            "Epoch [6/50] Batch 400/547       Loss D: 0.3591,loss G: 2.4762 \n",
            "Epoch [6/50] Batch 500/547       Loss D: 0.4955,loss G: 2.5095 \n",
            "Epoch [7/50] Batch 0/547       Loss D: 0.5312,loss G: 2.3601 \n",
            "Epoch [7/50] Batch 100/547       Loss D: 0.3427,loss G: 1.3435 \n",
            "Epoch [7/50] Batch 200/547       Loss D: 0.5814,loss G: 3.1894 \n",
            "Epoch [7/50] Batch 300/547       Loss D: 0.3620,loss G: 1.6061 \n",
            "Epoch [7/50] Batch 400/547       Loss D: 0.3886,loss G: 1.9814 \n",
            "Epoch [7/50] Batch 500/547       Loss D: 0.4163,loss G: 1.7501 \n",
            "Epoch [8/50] Batch 0/547       Loss D: 0.3474,loss G: 2.2181 \n",
            "Epoch [8/50] Batch 100/547       Loss D: 0.4417,loss G: 1.0405 \n",
            "Epoch [8/50] Batch 200/547       Loss D: 0.3964,loss G: 1.5178 \n",
            "Epoch [8/50] Batch 300/547       Loss D: 0.5497,loss G: 1.3717 \n",
            "Epoch [8/50] Batch 400/547       Loss D: 0.5799,loss G: 2.6187 \n",
            "Epoch [8/50] Batch 500/547       Loss D: 0.3463,loss G: 1.5601 \n",
            "Epoch [9/50] Batch 0/547       Loss D: 0.3437,loss G: 2.2207 \n",
            "Epoch [9/50] Batch 100/547       Loss D: 0.4591,loss G: 2.6911 \n",
            "Epoch [9/50] Batch 200/547       Loss D: 0.4408,loss G: 2.6538 \n",
            "Epoch [9/50] Batch 300/547       Loss D: 0.3512,loss G: 1.8825 \n",
            "Epoch [9/50] Batch 400/547       Loss D: 0.6524,loss G: 0.4861 \n",
            "Epoch [9/50] Batch 500/547       Loss D: 0.3859,loss G: 2.4395 \n",
            "Epoch [10/50] Batch 0/547       Loss D: 0.6795,loss G: 3.7605 \n",
            "Epoch [10/50] Batch 100/547       Loss D: 0.4330,loss G: 2.3897 \n",
            "Epoch [10/50] Batch 200/547       Loss D: 0.3161,loss G: 2.1700 \n",
            "Epoch [10/50] Batch 300/547       Loss D: 0.3624,loss G: 1.5094 \n",
            "Epoch [10/50] Batch 400/547       Loss D: 0.4693,loss G: 1.0519 \n",
            "Epoch [10/50] Batch 500/547       Loss D: 0.2781,loss G: 2.0305 \n",
            "Epoch [11/50] Batch 0/547       Loss D: 0.3745,loss G: 2.4610 \n",
            "Epoch [11/50] Batch 100/547       Loss D: 0.5614,loss G: 0.9167 \n",
            "Epoch [11/50] Batch 200/547       Loss D: 0.4481,loss G: 2.7809 \n",
            "Epoch [11/50] Batch 300/547       Loss D: 0.3921,loss G: 1.4797 \n",
            "Epoch [11/50] Batch 400/547       Loss D: 0.3866,loss G: 2.1832 \n",
            "Epoch [11/50] Batch 500/547       Loss D: 0.3533,loss G: 1.4519 \n",
            "Epoch [12/50] Batch 0/547       Loss D: 0.3257,loss G: 1.7855 \n",
            "Epoch [12/50] Batch 100/547       Loss D: 0.2801,loss G: 1.6958 \n",
            "Epoch [12/50] Batch 200/547       Loss D: 0.3964,loss G: 3.0069 \n",
            "Epoch [12/50] Batch 300/547       Loss D: 0.3499,loss G: 1.8196 \n",
            "Epoch [12/50] Batch 400/547       Loss D: 0.3232,loss G: 2.1944 \n",
            "Epoch [12/50] Batch 500/547       Loss D: 0.3021,loss G: 1.7335 \n",
            "Epoch [13/50] Batch 0/547       Loss D: 0.3115,loss G: 2.3450 \n",
            "Epoch [13/50] Batch 100/547       Loss D: 0.3012,loss G: 2.0206 \n",
            "Epoch [13/50] Batch 200/547       Loss D: 0.3599,loss G: 2.1683 \n",
            "Epoch [13/50] Batch 300/547       Loss D: 0.2963,loss G: 2.1508 \n",
            "Epoch [13/50] Batch 400/547       Loss D: 0.4579,loss G: 0.8489 \n",
            "Epoch [13/50] Batch 500/547       Loss D: 0.4895,loss G: 1.1491 \n",
            "Epoch [14/50] Batch 0/547       Loss D: 0.2607,loss G: 2.4891 \n",
            "Epoch [14/50] Batch 100/547       Loss D: 0.2867,loss G: 2.3272 \n",
            "Epoch [14/50] Batch 200/547       Loss D: 0.6616,loss G: 4.2426 \n",
            "Epoch [14/50] Batch 300/547       Loss D: 0.2955,loss G: 2.2757 \n",
            "Epoch [14/50] Batch 400/547       Loss D: 0.3054,loss G: 2.2867 \n"
          ],
          "name": "stdout"
        }
      ]
    },
    {
      "cell_type": "code",
      "metadata": {
        "id": "PflfwEAaPM-G",
        "colab": {
          "base_uri": "https://localhost:8080/",
          "height": 821
        },
        "outputId": "026e91fe-1b15-452c-e409-6a3ad436b16f"
      },
      "source": [
        "%tensorboard --logdir=/content/logs/"
      ],
      "execution_count": null,
      "outputs": []
    },
    {
      "cell_type": "code",
      "metadata": {
        "id": "1m9ZT3iPlZC9"
      },
      "source": [
        "!mkdir FFHQ/images"
      ],
      "execution_count": null,
      "outputs": []
    },
    {
      "cell_type": "code",
      "metadata": {
        "id": "T0_C0LZwn_1f"
      },
      "source": [
        "!kaggle datasets download -d arnaud58/flickrfaceshq-dataset-ffhq"
      ],
      "execution_count": null,
      "outputs": []
    },
    {
      "cell_type": "code",
      "metadata": {
        "id": "xXnusX2lojDZ"
      },
      "source": [
        "!unzip /content/ffhq-face-data-set.zip"
      ],
      "execution_count": null,
      "outputs": []
    },
    {
      "cell_type": "code",
      "metadata": {
        "id": "bAxfUTO7qljS"
      },
      "source": [
        "import os\n",
        "for f in os.listdir('/content/FFHQ/images'):\n",
        "  pass\n",
        "print(f)"
      ],
      "execution_count": null,
      "outputs": []
    },
    {
      "cell_type": "code",
      "metadata": {
        "id": "rsxC2TTCxRDn"
      },
      "source": [
        "import shutil\n",
        "shutil.rmtree('/content/logs')"
      ],
      "execution_count": null,
      "outputs": []
    },
    {
      "cell_type": "code",
      "metadata": {
        "colab": {
          "base_uri": "https://localhost:8080/"
        },
        "id": "VEgQIIhix5HF",
        "outputId": "4fd09fe8-d3ac-4f29-ac4c-df1d40370235"
      },
      "source": [
        "!kaggle datasets download -d greatgamedota/ffhq-face-data-set"
      ],
      "execution_count": null,
      "outputs": [
        {
          "output_type": "stream",
          "text": [
            "Downloading ffhq-face-data-set.zip to /content\n",
            "100% 1.96G/1.97G [00:24<00:00, 98.7MB/s]\n",
            "100% 1.97G/1.97G [00:24<00:00, 85.1MB/s]\n"
          ],
          "name": "stdout"
        }
      ]
    },
    {
      "cell_type": "code",
      "metadata": {
        "colab": {
          "base_uri": "https://localhost:8080/"
        },
        "id": "b7Qwx77uysGv",
        "outputId": "5885340c-f63b-41fe-ce05-cd2241a052c9"
      },
      "source": [
        "%cd /content"
      ],
      "execution_count": null,
      "outputs": [
        {
          "output_type": "stream",
          "text": [
            "/content\n"
          ],
          "name": "stdout"
        }
      ]
    },
    {
      "cell_type": "code",
      "metadata": {
        "id": "lwX8QKady7XJ"
      },
      "source": [
        "!lss"
      ],
      "execution_count": null,
      "outputs": []
    }
  ]
}